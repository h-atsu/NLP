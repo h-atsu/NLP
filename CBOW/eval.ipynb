{
 "cells": [
  {
   "cell_type": "code",
   "execution_count": 1,
   "metadata": {},
   "outputs": [],
   "source": [
    "import os\n",
    "import sys\n",
    "from pathlib import Path\n",
    "sys.path.append(os.path.join(Path().resolve(), '..'))\n",
    "import numpy as np\n",
    "from datasets import ptb\n",
    "import dezero.layers as L\n",
    "import dezero.functions as F\n",
    "from dezero.optimizers import Adam\n",
    "from dezero import Variable, Model\n",
    "from dezero import DataLoader\n",
    "import matplotlib.pyplot as plt\n",
    "from utils import *\n",
    "from data import PTB\n",
    "from tqdm import tqdm\n",
    "from datasets.ptb import load_data\n",
    "import dezero\n",
    "\n",
    "window_size = 5\n",
    "hidden_size = 100\n",
    "batch_size = 100\n",
    "max_eopch = 10\n",
    "eps = 1e-8\n",
    "trainset = PTB(window_size=window_size)\n",
    "trainloader = DataLoader(trainset, batch_size=batch_size, shuffle=True)\n",
    "corpus = trainset.corpus\n",
    "vocab_size = len(trainset.word_to_id)\n",
    "\n",
    "class CBOW(Model):\n",
    "    def __init__(self, vocab_size, hidden_dim=10):\n",
    "        super().__init__()\n",
    "        self.embed_in = L.EmbedID(vocab_size, hidden_dim)\n",
    "        self.embed_out = L.EmbedID(vocab_size, hidden_dim)\n",
    "        self.sampler = UnigramSampler(corpus)\n",
    "\n",
    "    def forward(self, x):\n",
    "        return self.embed_in(x).sum(axis=1)\n",
    "\n",
    "    def embed(self, y):\n",
    "        return self.embed_out(y)\n",
    "\n",
    "\n",
    "model = CBOW(vocab_size, hidden_size)\n",
    "model.load_weights('ptb_cbow.npz')\n",
    "\n",
    "for word_vecs in model.embed_in.params():\n",
    "    break\n",
    "word_vecs = word_vecs.data    \n",
    "\n",
    "corpus, w2i, i2w = load_data('train')"
   ]
  },
  {
   "cell_type": "code",
   "execution_count": 2,
   "metadata": {},
   "outputs": [],
   "source": [
    "# # 教科書サンプルコードの学習済みパラメータを使うとき\n",
    "# import pickle\n",
    "# with open('cbow_params.pkl', 'rb') as f:\n",
    "#     data = pickle.load(f)\n",
    "\n",
    "# i2w = data['id_to_word']\n",
    "# w2i = data['word_to_id']\n",
    "# word_vecs = data['word_vecs']"
   ]
  },
  {
   "cell_type": "code",
   "execution_count": 3,
   "metadata": {},
   "outputs": [],
   "source": [
    "querys = ['you', 'year', 'car', 'toyota']"
   ]
  },
  {
   "cell_type": "code",
   "execution_count": 4,
   "metadata": {},
   "outputs": [],
   "source": [
    "def word_similality(w1, w2, w2i, i2w, word_vecs):\n",
    "    w1_vec = word_vecs[w2i[w1]]\n",
    "    w2_vec = word_vecs[w2i[w2]]\n",
    "    return cos_similality(w1_vec, w2_vec)"
   ]
  },
  {
   "cell_type": "code",
   "execution_count": 5,
   "metadata": {},
   "outputs": [
    {
     "data": {
      "text/plain": [
       "0.29477829334851646"
      ]
     },
     "execution_count": 5,
     "metadata": {},
     "output_type": "execute_result"
    }
   ],
   "source": [
    "word_similality('toyota', 'mazda', w2i, i2w, word_vecs)"
   ]
  },
  {
   "cell_type": "code",
   "execution_count": 6,
   "metadata": {},
   "outputs": [
    {
     "name": "stdout",
     "output_type": "stream",
     "text": [
      "\n",
      " [query] you\n",
      "we        : 0.74113\n",
      "i         : 0.69585\n",
      "they      : 0.68333\n",
      "your      : 0.47319\n",
      "he        : 0.42945\n",
      "meals     : 0.41782\n",
      "pasadena  : 0.39748\n",
      "she       : 0.39077\n",
      "scott     : 0.38869\n",
      "analysts  : 0.38582\n",
      "\n",
      " [query] year\n",
      "month     : 0.84547\n",
      "week      : 0.84042\n",
      "summer    : 0.59059\n",
      "spring    : 0.55247\n",
      "decade    : 0.54155\n",
      "day       : 0.52436\n",
      "piece     : 0.48625\n",
      "time      : 0.47846\n",
      "years     : 0.44805\n",
      "thing     : 0.44672\n",
      "\n",
      " [query] car\n",
      "cars      : 0.42419\n",
      "auto      : 0.41969\n",
      "across-the-board: 0.39437\n",
      "letter    : 0.38786\n",
      "rank      : 0.38754\n",
      "diamond   : 0.38159\n",
      "industrials: 0.38104\n",
      "denying   : 0.37294\n",
      "cd        : 0.37269\n",
      "adjusting : 0.37182\n",
      "\n",
      " [query] toyota\n",
      "westinghouse: 0.44242\n",
      "loyal     : 0.41437\n",
      "homes     : 0.40086\n",
      "broadcasting: 0.39378\n",
      "rivals    : 0.37883\n",
      "esb       : 0.37727\n",
      "grid      : 0.36735\n",
      "slashed   : 0.36282\n",
      "soar      : 0.35967\n",
      "carat     : 0.35959\n"
     ]
    }
   ],
   "source": [
    "for query in querys:\n",
    "    most_similar(query, w2i, i2w, word_vecs, top = 10)"
   ]
  },
  {
   "cell_type": "code",
   "execution_count": 7,
   "metadata": {},
   "outputs": [
    {
     "name": "stdout",
     "output_type": "stream",
     "text": [
      "\n",
      "[analogy] king:man = queen:?\n",
      " crackdown: 4.488529468804121\n",
      " recital: 3.8430350805558104\n",
      " honduras: 3.784316218826454\n",
      " worm: 3.7298828831012605\n",
      " nonsense: 3.72230297685637\n",
      " editorial-page: 3.6959209671899513\n",
      " prosecutorial: 3.5527883765871513\n",
      " birds: 3.4896121164097624\n",
      " brushed: 3.4335280281204605\n",
      " heroes: 3.411219536672392\n"
     ]
    }
   ],
   "source": [
    "analogy('king', 'man', 'queen', w2i, i2w, word_vecs, top = 10)"
   ]
  },
  {
   "cell_type": "code",
   "execution_count": 8,
   "metadata": {},
   "outputs": [
    {
     "name": "stdout",
     "output_type": "stream",
     "text": [
      "\n",
      "[analogy] take:took = go:?\n",
      " pricings: 3.9008207009172287\n",
      " recalled: 3.6740769961302897\n",
      " summoned: 3.5325145002719305\n",
      " marched: 3.4863272358378175\n",
      " daffynition: 3.4397122134079043\n",
      " naked: 3.2857247589495024\n",
      " dominates: 3.2813056524275788\n",
      " berlitz: 3.268546680106323\n",
      " regard: 3.188953639198097\n",
      " dies: 3.170695775335239\n"
     ]
    }
   ],
   "source": [
    "analogy('take', 'took', 'go', w2i, i2w, word_vecs, top = 10)"
   ]
  },
  {
   "cell_type": "code",
   "execution_count": 9,
   "metadata": {},
   "outputs": [
    {
     "name": "stdout",
     "output_type": "stream",
     "text": [
      "\n",
      "[analogy] car:cars = child:?\n",
      " recital: 4.272431678515458\n",
      " struggles: 3.937740357708284\n",
      " belts: 3.687268434990096\n",
      " intentionally: 3.6112456075460524\n",
      " photographs: 3.574466829437898\n",
      " queen: 3.5142402952209117\n",
      " sr.: 3.4302826600119474\n",
      " walks: 3.4057440374337418\n",
      " palmer: 3.365731852564985\n",
      " borders: 3.361399037777532\n"
     ]
    }
   ],
   "source": [
    "analogy('car', 'cars', 'child', w2i, i2w, word_vecs, top = 10)"
   ]
  }
 ],
 "metadata": {
  "kernelspec": {
   "display_name": "Python 3",
   "language": "python",
   "name": "python3"
  },
  "language_info": {
   "codemirror_mode": {
    "name": "ipython",
    "version": 3
   },
   "file_extension": ".py",
   "mimetype": "text/x-python",
   "name": "python",
   "nbconvert_exporter": "python",
   "pygments_lexer": "ipython3",
   "version": "3.8.5"
  }
 },
 "nbformat": 4,
 "nbformat_minor": 4
}
