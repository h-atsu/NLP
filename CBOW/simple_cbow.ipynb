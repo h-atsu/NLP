{
 "cells": [
  {
   "cell_type": "code",
   "execution_count": 1,
   "metadata": {},
   "outputs": [],
   "source": [
    "from utils import *\n",
    "import numpy as np\n",
    "from datasets import ptb\n",
    "import dezero.layers as L\n",
    "import dezero.functions as F\n",
    "from dezero.optimizers import SGD\n",
    "from dezero import Variable,Model\n",
    "import matplotlib.pyplot as plt"
   ]
  },
  {
   "cell_type": "code",
   "execution_count": 2,
   "metadata": {},
   "outputs": [],
   "source": [
    "window_size = 1\n",
    "hidden_size = 5\n",
    "batch_size = 3\n",
    "max_eopch = 1000\n",
    "\n",
    "text = \"You say goodbye and I say hello.\"\n",
    "corpus, w2i, i2w = preprocess(text)\n",
    "\n",
    "vocab_size = len(w2i)\n",
    "contexts, target = create_contexts_target(corpus, window_size)\n",
    "target = Variable(target)"
   ]
  },
  {
   "cell_type": "code",
   "execution_count": 3,
   "metadata": {},
   "outputs": [],
   "source": [
    "class CBOW(Model):\n",
    "    def __init__(self, vocab_size, hidden_dim = 10):\n",
    "        super().__init__()\n",
    "        self.embeddings = L.EmbedID(vocab_size, hidden_dim)\n",
    "        self.l = L.Linear(out_size = vocab_size)\n",
    "        \n",
    "    def forward(self,x, y):\n",
    "        embeds = self.embeddings(x).sum(axis = 0,keepdims=True) / len(x)\n",
    "        return self.l(embeds)"
   ]
  },
  {
   "cell_type": "code",
   "execution_count": 4,
   "metadata": {},
   "outputs": [],
   "source": [
    "model = CBOW(vocab_size, hidden_size)\n",
    "optimizer = SGD().setup(model)"
   ]
  },
  {
   "cell_type": "code",
   "execution_count": 5,
   "metadata": {},
   "outputs": [
    {
     "data": {
      "text/plain": [
       "variable([1 2 3 4 1 5])"
      ]
     },
     "execution_count": 5,
     "metadata": {},
     "output_type": "execute_result"
    }
   ],
   "source": [
    "target"
   ]
  },
  {
   "cell_type": "code",
   "execution_count": 6,
   "metadata": {},
   "outputs": [],
   "source": [
    "ret = {}\n",
    "ret[\"train_loss\"] = []\n",
    "for eopch in range(max_eopch):\n",
    "    train_loss = 0\n",
    "    for X,y in zip(contexts, target):\n",
    "        pred_y = model(X)\n",
    "        loss = F.softmax_cross_entropy(pred_y, y)\n",
    "        train_loss += loss.data\n",
    "        model.cleargrads()\n",
    "        loss.backward()\n",
    "        optimizer.update()\n",
    "    ret['train_loss'] += [train_loss]"
   ]
  },
  {
   "cell_type": "code",
   "execution_count": 7,
   "metadata": {},
   "outputs": [
    {
     "data": {
      "image/png": "[encoded data removed]",
      "text/plain": [
       "<Figure size 432x288 with 1 Axes>"
      ]
     },
     "metadata": {
      "needs_background": "light"
     },
     "output_type": "display_data"
    }
   ],
   "source": [
    "plt.plot(ret['train_loss'])\n",
    "plt.title('loss function value')\n",
    "plt.xlabel('iter')\n",
    "plt.ylabel('val')\n",
    "plt.show()"
   ]
  },
  {
   "cell_type": "code",
   "execution_count": 9,
   "metadata": {},
   "outputs": [
    {
     "name": "stdout",
     "output_type": "stream",
     "text": [
      "you : variable([-2.06395613 -0.06263073 -0.14475852 -2.27086734 -0.90814606])\n",
      "say : variable([ 1.60456204 -1.50774551 -1.3597249   0.2271803   1.79784491])\n",
      "goodbye : variable([-0.04131626  0.49353325  0.58386578  0.91915223 -2.27918437])\n",
      "and : variable([ 0.69235561  0.64872914 -0.63931338 -1.5848414   0.96282079])\n",
      "i : variable([ 0.1797985   2.00473532  0.53719717  0.37147008 -0.69751361])\n",
      "hello : variable([-1.11085657  1.13326664 -0.53817663 -0.8723184   0.51293615])\n",
      ". : variable([-2.96991756  0.30851148 -1.34492272  1.46553848 -0.40043004])\n"
     ]
    }
   ],
   "source": [
    "# 得られた各単語の埋め込みベクトル\n",
    "for word_id, word in i2w.items():\n",
    "    print(\"{} : {}\".format(word, model.embeddings(word_id)))"
   ]
  },
  {
   "cell_type": "code",
   "execution_count": 10,
   "metadata": {},
   "outputs": [],
   "source": [
    "import collections"
   ]
  },
  {
   "cell_type": "code",
   "execution_count": 26,
   "metadata": {},
   "outputs": [],
   "source": [
    "a = np.random.randint(10,size = (10))"
   ]
  },
  {
   "cell_type": "code",
   "execution_count": 27,
   "metadata": {},
   "outputs": [
    {
     "data": {
      "text/plain": [
       "array([9, 2, 2, 5, 4, 4, 8, 1, 9, 2])"
      ]
     },
     "execution_count": 27,
     "metadata": {},
     "output_type": "execute_result"
    }
   ],
   "source": [
    "a"
   ]
  },
  {
   "cell_type": "code",
   "execution_count": 28,
   "metadata": {},
   "outputs": [
    {
     "data": {
      "text/plain": [
       "Counter({9: 2, 2: 3, 5: 1, 4: 2, 8: 1, 1: 1})"
      ]
     },
     "execution_count": 28,
     "metadata": {},
     "output_type": "execute_result"
    }
   ],
   "source": [
    "collections.Counter(a)"
   ]
  },
  {
   "cell_type": "code",
   "execution_count": 29,
   "metadata": {},
   "outputs": [],
   "source": [
    "a = np.arange(100).reshape(2,10,5)\n",
    "b = np.arange(200).reshape(4,10,5)"
   ]
  },
  {
   "cell_type": "code",
   "execution_count": 33,
   "metadata": {},
   "outputs": [],
   "source": [
    "import torch"
   ]
  },
  {
   "cell_type": "code",
   "execution_count": 35,
   "metadata": {},
   "outputs": [],
   "source": [
    "a = torch.tensor(a)"
   ]
  },
  {
   "cell_type": "code",
   "execution_count": 36,
   "metadata": {},
   "outputs": [],
   "source": [
    "b = torch.tensor(b)"
   ]
  }
 ],
 "metadata": {
  "kernelspec": {
   "display_name": "Python 3",
   "language": "python",
   "name": "python3"
  },
  "language_info": {
   "codemirror_mode": {
    "name": "ipython",
    "version": 3
   },
   "file_extension": ".py",
   "mimetype": "text/x-python",
   "name": "python",
   "nbconvert_exporter": "python",
   "pygments_lexer": "ipython3",
   "version": "3.8.5"
  }
 },
 "nbformat": 4,
 "nbformat_minor": 4
}
